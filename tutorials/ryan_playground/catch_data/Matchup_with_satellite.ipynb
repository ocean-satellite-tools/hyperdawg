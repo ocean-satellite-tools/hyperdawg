{
 "cells": [
  {
   "cell_type": "code",
   "execution_count": 18,
   "id": "93c7f82f-34b6-4562-b775-d45c6783ec84",
   "metadata": {},
   "outputs": [
    {
     "name": "stderr",
     "output_type": "stream",
     "text": [
      "  0%|          | 0/368 [00:00<?, ?it/s]"
     ]
    },
    {
     "data": {
      "application/vnd.jupyter.widget-view+json": {
       "model_id": "97356555012c474e9071819ca3eede15",
       "version_major": 2,
       "version_minor": 0
      },
      "text/plain": [
       "QUEUEING TASKS | :   0%|          | 0/1 [00:00<?, ?it/s]"
      ]
     },
     "metadata": {},
     "output_type": "display_data"
    },
    {
     "data": {
      "application/vnd.jupyter.widget-view+json": {
       "model_id": "749bcbcf16414ff984458897b1eda678",
       "version_major": 2,
       "version_minor": 0
      },
      "text/plain": [
       "PROCESSING TASKS | :   0%|          | 0/1 [00:00<?, ?it/s]"
      ]
     },
     "metadata": {},
     "output_type": "display_data"
    },
    {
     "data": {
      "application/vnd.jupyter.widget-view+json": {
       "model_id": "0e0a44dcc5794e48933650144bb8d62c",
       "version_major": 2,
       "version_minor": 0
      },
      "text/plain": [
       "COLLECTING RESULTS | :   0%|          | 0/1 [00:00<?, ?it/s]"
      ]
     },
     "metadata": {},
     "output_type": "display_data"
    },
    {
     "data": {
      "application/vnd.jupyter.widget-view+json": {
       "model_id": "3e5502623fd94a2090e2af3f3bcb7cbc",
       "version_major": 2,
       "version_minor": 0
      },
      "text/plain": [
       "QUEUEING TASKS | :   0%|          | 0/1 [00:00<?, ?it/s]"
      ]
     },
     "metadata": {},
     "output_type": "display_data"
    },
    {
     "data": {
      "application/vnd.jupyter.widget-view+json": {
       "model_id": "a79a4b140eb243b897796b39b585be4b",
       "version_major": 2,
       "version_minor": 0
      },
      "text/plain": [
       "PROCESSING TASKS | :   0%|          | 0/1 [00:00<?, ?it/s]"
      ]
     },
     "metadata": {},
     "output_type": "display_data"
    },
    {
     "data": {
      "application/vnd.jupyter.widget-view+json": {
       "model_id": "461916c1e36b4e6e9368f1776375aecc",
       "version_major": 2,
       "version_minor": 0
      },
      "text/plain": [
       "COLLECTING RESULTS | :   0%|          | 0/1 [00:00<?, ?it/s]"
      ]
     },
     "metadata": {},
     "output_type": "display_data"
    },
    {
     "name": "stderr",
     "output_type": "stream",
     "text": [
      "  1%|▏         | 5/368 [01:40<1:21:05, 13.40s/it]"
     ]
    },
    {
     "data": {
      "application/vnd.jupyter.widget-view+json": {
       "model_id": "3dc645eb799e48a8a87fb5f3ef9efe0a",
       "version_major": 2,
       "version_minor": 0
      },
      "text/plain": [
       "QUEUEING TASKS | :   0%|          | 0/1 [00:00<?, ?it/s]"
      ]
     },
     "metadata": {},
     "output_type": "display_data"
    },
    {
     "data": {
      "application/vnd.jupyter.widget-view+json": {
       "model_id": "735589b34fe54970bb1c0a9aca6c67ad",
       "version_major": 2,
       "version_minor": 0
      },
      "text/plain": [
       "PROCESSING TASKS | :   0%|          | 0/1 [00:00<?, ?it/s]"
      ]
     },
     "metadata": {},
     "output_type": "display_data"
    },
    {
     "data": {
      "application/vnd.jupyter.widget-view+json": {
       "model_id": "115f41e35b8d4413bd02b1a77a512c1a",
       "version_major": 2,
       "version_minor": 0
      },
      "text/plain": [
       "COLLECTING RESULTS | :   0%|          | 0/1 [00:00<?, ?it/s]"
      ]
     },
     "metadata": {},
     "output_type": "display_data"
    },
    {
     "data": {
      "application/vnd.jupyter.widget-view+json": {
       "model_id": "9f30bba2a59e41a09e6ca1231b5951cd",
       "version_major": 2,
       "version_minor": 0
      },
      "text/plain": [
       "QUEUEING TASKS | :   0%|          | 0/1 [00:00<?, ?it/s]"
      ]
     },
     "metadata": {},
     "output_type": "display_data"
    },
    {
     "data": {
      "application/vnd.jupyter.widget-view+json": {
       "model_id": "46d17459780a49df97d024a207b34f04",
       "version_major": 2,
       "version_minor": 0
      },
      "text/plain": [
       "PROCESSING TASKS | :   0%|          | 0/1 [00:00<?, ?it/s]"
      ]
     },
     "metadata": {},
     "output_type": "display_data"
    },
    {
     "data": {
      "application/vnd.jupyter.widget-view+json": {
       "model_id": "5dcf4b8c27934a48a35c392c6bee884c",
       "version_major": 2,
       "version_minor": 0
      },
      "text/plain": [
       "COLLECTING RESULTS | :   0%|          | 0/1 [00:00<?, ?it/s]"
      ]
     },
     "metadata": {},
     "output_type": "display_data"
    },
    {
     "name": "stderr",
     "output_type": "stream",
     "text": [
      "  2%|▏         | 8/368 [02:09<1:10:28, 11.75s/it]"
     ]
    },
    {
     "name": "stdout",
     "output_type": "stream",
     "text": [
      "⚠️  Used monthly fallback for 2024-03-08 00:32:00\n",
      "⚠️  Used monthly fallback for 2024-03-08 02:24:00\n",
      "⚠️  Used monthly fallback for 2024-03-08 04:49:00\n",
      "⚠️  Used monthly fallback for 2024-03-08 08:10:00\n"
     ]
    },
    {
     "name": "stderr",
     "output_type": "stream",
     "text": [
      "  4%|▎         | 13/368 [02:10<26:16,  4.44s/it] "
     ]
    },
    {
     "name": "stdout",
     "output_type": "stream",
     "text": [
      "⚠️  Used monthly fallback for 2024-03-08 10:07:00\n",
      "⚠️  Used monthly fallback for 2024-03-08 12:47:00\n",
      "⚠️  Used monthly fallback for 2024-03-08 16:50:00\n",
      "⚠️  Used monthly fallback for 2024-03-08 19:20:00\n"
     ]
    },
    {
     "name": "stderr",
     "output_type": "stream",
     "text": [
      "  4%|▍         | 15/368 [02:10<18:20,  3.12s/it]"
     ]
    },
    {
     "name": "stdout",
     "output_type": "stream",
     "text": [
      "⚠️  Used monthly fallback for 2024-03-08 22:20:00\n",
      "⚠️  Used monthly fallback for 2024-03-09 00:52:00\n",
      "⚠️  Used monthly fallback for 2024-03-09 03:27:00\n"
     ]
    },
    {
     "name": "stderr",
     "output_type": "stream",
     "text": [
      "  5%|▌         | 19/368 [02:10<09:01,  1.55s/it]"
     ]
    },
    {
     "name": "stdout",
     "output_type": "stream",
     "text": [
      "⚠️  Used monthly fallback for 2024-03-09 05:35:00\n",
      "⚠️  Used monthly fallback for 2024-03-09 08:41:00\n",
      "⚠️  Used monthly fallback for 2024-03-09 11:53:00\n",
      "⚠️  Used monthly fallback for 2024-03-09 14:29:00\n"
     ]
    },
    {
     "name": "stderr",
     "output_type": "stream",
     "text": [
      "  6%|▌         | 21/368 [02:11<07:22,  1.28s/it]"
     ]
    },
    {
     "name": "stdout",
     "output_type": "stream",
     "text": [
      "⚠️  Used monthly fallback for 2024-03-09 16:49:00\n"
     ]
    },
    {
     "name": "stderr",
     "output_type": "stream",
     "text": [
      "  8%|▊         | 29/368 [02:14<03:21,  1.69it/s]"
     ]
    },
    {
     "name": "stdout",
     "output_type": "stream",
     "text": [
      "⚠️  Used monthly fallback for 2024-03-10 09:15:00\n"
     ]
    },
    {
     "name": "stderr",
     "output_type": "stream",
     "text": [
      " 11%|█▏        | 42/368 [02:30<01:30,  3.60it/s]"
     ]
    },
    {
     "data": {
      "application/vnd.jupyter.widget-view+json": {
       "model_id": "209b3071b0f84da6b208f41165840442",
       "version_major": 2,
       "version_minor": 0
      },
      "text/plain": [
       "QUEUEING TASKS | :   0%|          | 0/1 [00:00<?, ?it/s]"
      ]
     },
     "metadata": {},
     "output_type": "display_data"
    },
    {
     "data": {
      "application/vnd.jupyter.widget-view+json": {
       "model_id": "dab86fae11494fbb93c37c168d7be93e",
       "version_major": 2,
       "version_minor": 0
      },
      "text/plain": [
       "PROCESSING TASKS | :   0%|          | 0/1 [00:00<?, ?it/s]"
      ]
     },
     "metadata": {},
     "output_type": "display_data"
    },
    {
     "data": {
      "application/vnd.jupyter.widget-view+json": {
       "model_id": "f8ba3aaef72f4e01aa031fada5207360",
       "version_major": 2,
       "version_minor": 0
      },
      "text/plain": [
       "COLLECTING RESULTS | :   0%|          | 0/1 [00:00<?, ?it/s]"
      ]
     },
     "metadata": {},
     "output_type": "display_data"
    },
    {
     "data": {
      "application/vnd.jupyter.widget-view+json": {
       "model_id": "b6bd436bc5c6491a9ca3bb0050633022",
       "version_major": 2,
       "version_minor": 0
      },
      "text/plain": [
       "QUEUEING TASKS | :   0%|          | 0/1 [00:00<?, ?it/s]"
      ]
     },
     "metadata": {},
     "output_type": "display_data"
    },
    {
     "data": {
      "application/vnd.jupyter.widget-view+json": {
       "model_id": "2bcec21dffd14b71a3d3771afa8a75f1",
       "version_major": 2,
       "version_minor": 0
      },
      "text/plain": [
       "PROCESSING TASKS | :   0%|          | 0/1 [00:00<?, ?it/s]"
      ]
     },
     "metadata": {},
     "output_type": "display_data"
    },
    {
     "data": {
      "application/vnd.jupyter.widget-view+json": {
       "model_id": "f09443f2943f4eacb3f2557743ec1782",
       "version_major": 2,
       "version_minor": 0
      },
      "text/plain": [
       "COLLECTING RESULTS | :   0%|          | 0/1 [00:00<?, ?it/s]"
      ]
     },
     "metadata": {},
     "output_type": "display_data"
    },
    {
     "name": "stderr",
     "output_type": "stream",
     "text": [
      " 29%|██▉       | 107/368 [03:20<00:22, 11.66it/s]"
     ]
    },
    {
     "data": {
      "application/vnd.jupyter.widget-view+json": {
       "model_id": "835404d6e1f449a59227aad1fe6ef17f",
       "version_major": 2,
       "version_minor": 0
      },
      "text/plain": [
       "QUEUEING TASKS | :   0%|          | 0/1 [00:00<?, ?it/s]"
      ]
     },
     "metadata": {},
     "output_type": "display_data"
    },
    {
     "data": {
      "application/vnd.jupyter.widget-view+json": {
       "model_id": "c1dacd3c8c61443abd9b4581a3eb4d58",
       "version_major": 2,
       "version_minor": 0
      },
      "text/plain": [
       "PROCESSING TASKS | :   0%|          | 0/1 [00:00<?, ?it/s]"
      ]
     },
     "metadata": {},
     "output_type": "display_data"
    },
    {
     "data": {
      "application/vnd.jupyter.widget-view+json": {
       "model_id": "204d5fc3a8a8461a9bb792ba4f7dddee",
       "version_major": 2,
       "version_minor": 0
      },
      "text/plain": [
       "COLLECTING RESULTS | :   0%|          | 0/1 [00:00<?, ?it/s]"
      ]
     },
     "metadata": {},
     "output_type": "display_data"
    },
    {
     "data": {
      "application/vnd.jupyter.widget-view+json": {
       "model_id": "5e77c445b3ff4018a70dca7b4141ec24",
       "version_major": 2,
       "version_minor": 0
      },
      "text/plain": [
       "QUEUEING TASKS | :   0%|          | 0/1 [00:00<?, ?it/s]"
      ]
     },
     "metadata": {},
     "output_type": "display_data"
    },
    {
     "data": {
      "application/vnd.jupyter.widget-view+json": {
       "model_id": "800d7064bb284bb6a9e166b6bf17a706",
       "version_major": 2,
       "version_minor": 0
      },
      "text/plain": [
       "PROCESSING TASKS | :   0%|          | 0/1 [00:00<?, ?it/s]"
      ]
     },
     "metadata": {},
     "output_type": "display_data"
    },
    {
     "data": {
      "application/vnd.jupyter.widget-view+json": {
       "model_id": "e7c61714c9144caab9f937d2f97d923f",
       "version_major": 2,
       "version_minor": 0
      },
      "text/plain": [
       "COLLECTING RESULTS | :   0%|          | 0/1 [00:00<?, ?it/s]"
      ]
     },
     "metadata": {},
     "output_type": "display_data"
    },
    {
     "name": "stderr",
     "output_type": "stream",
     "text": [
      " 33%|███▎      | 120/368 [04:00<05:33,  1.35s/it]"
     ]
    },
    {
     "data": {
      "application/vnd.jupyter.widget-view+json": {
       "model_id": "1bff0389090f46bb855cb5f0ed2f99dc",
       "version_major": 2,
       "version_minor": 0
      },
      "text/plain": [
       "QUEUEING TASKS | :   0%|          | 0/1 [00:00<?, ?it/s]"
      ]
     },
     "metadata": {},
     "output_type": "display_data"
    },
    {
     "data": {
      "application/vnd.jupyter.widget-view+json": {
       "model_id": "a3ed205caa0f4842b653e6a19fdbeadd",
       "version_major": 2,
       "version_minor": 0
      },
      "text/plain": [
       "PROCESSING TASKS | :   0%|          | 0/1 [00:00<?, ?it/s]"
      ]
     },
     "metadata": {},
     "output_type": "display_data"
    },
    {
     "data": {
      "application/vnd.jupyter.widget-view+json": {
       "model_id": "b5629c8329664d58b0bf277c737e8ffb",
       "version_major": 2,
       "version_minor": 0
      },
      "text/plain": [
       "COLLECTING RESULTS | :   0%|          | 0/1 [00:00<?, ?it/s]"
      ]
     },
     "metadata": {},
     "output_type": "display_data"
    },
    {
     "data": {
      "application/vnd.jupyter.widget-view+json": {
       "model_id": "d6c3242134984424b37eb8e29c3cadcb",
       "version_major": 2,
       "version_minor": 0
      },
      "text/plain": [
       "QUEUEING TASKS | :   0%|          | 0/1 [00:00<?, ?it/s]"
      ]
     },
     "metadata": {},
     "output_type": "display_data"
    },
    {
     "data": {
      "application/vnd.jupyter.widget-view+json": {
       "model_id": "91850a848fdb493fb8fd94588f62bb97",
       "version_major": 2,
       "version_minor": 0
      },
      "text/plain": [
       "PROCESSING TASKS | :   0%|          | 0/1 [00:00<?, ?it/s]"
      ]
     },
     "metadata": {},
     "output_type": "display_data"
    },
    {
     "data": {
      "application/vnd.jupyter.widget-view+json": {
       "model_id": "e3cd965a02a44cfeb7b835fba6b24575",
       "version_major": 2,
       "version_minor": 0
      },
      "text/plain": [
       "COLLECTING RESULTS | :   0%|          | 0/1 [00:00<?, ?it/s]"
      ]
     },
     "metadata": {},
     "output_type": "display_data"
    },
    {
     "name": "stderr",
     "output_type": "stream",
     "text": [
      " 35%|███▍      | 128/368 [04:30<08:44,  2.18s/it]"
     ]
    },
    {
     "data": {
      "application/vnd.jupyter.widget-view+json": {
       "model_id": "f7236abad7e54eabbed2d484bf4224fe",
       "version_major": 2,
       "version_minor": 0
      },
      "text/plain": [
       "QUEUEING TASKS | :   0%|          | 0/1 [00:00<?, ?it/s]"
      ]
     },
     "metadata": {},
     "output_type": "display_data"
    },
    {
     "data": {
      "application/vnd.jupyter.widget-view+json": {
       "model_id": "d093b9b580bb45f0832f5a0813e86e8d",
       "version_major": 2,
       "version_minor": 0
      },
      "text/plain": [
       "PROCESSING TASKS | :   0%|          | 0/1 [00:00<?, ?it/s]"
      ]
     },
     "metadata": {},
     "output_type": "display_data"
    },
    {
     "data": {
      "application/vnd.jupyter.widget-view+json": {
       "model_id": "2a410e4b43ca46438666aad6a6d38ade",
       "version_major": 2,
       "version_minor": 0
      },
      "text/plain": [
       "COLLECTING RESULTS | :   0%|          | 0/1 [00:00<?, ?it/s]"
      ]
     },
     "metadata": {},
     "output_type": "display_data"
    },
    {
     "data": {
      "application/vnd.jupyter.widget-view+json": {
       "model_id": "892d6ecee43740fdbeb02a68e823e6d5",
       "version_major": 2,
       "version_minor": 0
      },
      "text/plain": [
       "QUEUEING TASKS | :   0%|          | 0/1 [00:00<?, ?it/s]"
      ]
     },
     "metadata": {},
     "output_type": "display_data"
    },
    {
     "data": {
      "application/vnd.jupyter.widget-view+json": {
       "model_id": "eb57104bb94c4a8bbf97bde1f13e83e0",
       "version_major": 2,
       "version_minor": 0
      },
      "text/plain": [
       "PROCESSING TASKS | :   0%|          | 0/1 [00:00<?, ?it/s]"
      ]
     },
     "metadata": {},
     "output_type": "display_data"
    },
    {
     "data": {
      "application/vnd.jupyter.widget-view+json": {
       "model_id": "04f821a4613f48dfbcc13ff9ac175c90",
       "version_major": 2,
       "version_minor": 0
      },
      "text/plain": [
       "COLLECTING RESULTS | :   0%|          | 0/1 [00:00<?, ?it/s]"
      ]
     },
     "metadata": {},
     "output_type": "display_data"
    },
    {
     "name": "stderr",
     "output_type": "stream",
     "text": [
      " 36%|███▌      | 131/368 [04:49<16:50,  4.26s/it]"
     ]
    },
    {
     "name": "stdout",
     "output_type": "stream",
     "text": [
      "⚠️  Used monthly fallback for 2024-04-02 21:50:00\n"
     ]
    },
    {
     "name": "stderr",
     "output_type": "stream",
     "text": [
      " 38%|███▊      | 138/368 [04:51<07:39,  2.00s/it]"
     ]
    },
    {
     "name": "stdout",
     "output_type": "stream",
     "text": [
      "⚠️  Used monthly fallback for 2024-04-04 11:58:00\n"
     ]
    },
    {
     "name": "stderr",
     "output_type": "stream",
     "text": [
      " 39%|███▉      | 145/368 [04:51<03:21,  1.11it/s]"
     ]
    },
    {
     "name": "stdout",
     "output_type": "stream",
     "text": [
      "⚠️  Used monthly fallback for 2024-04-05 16:54:00\n"
     ]
    },
    {
     "data": {
      "application/vnd.jupyter.widget-view+json": {
       "model_id": "eed077a49c7b4ab1877ff95812231057",
       "version_major": 2,
       "version_minor": 0
      },
      "text/plain": [
       "QUEUEING TASKS | :   0%|          | 0/1 [00:00<?, ?it/s]"
      ]
     },
     "metadata": {},
     "output_type": "display_data"
    },
    {
     "data": {
      "application/vnd.jupyter.widget-view+json": {
       "model_id": "1e7c7ccb1d464013a6df5e4e1e97ef8e",
       "version_major": 2,
       "version_minor": 0
      },
      "text/plain": [
       "PROCESSING TASKS | :   0%|          | 0/1 [00:00<?, ?it/s]"
      ]
     },
     "metadata": {},
     "output_type": "display_data"
    },
    {
     "data": {
      "application/vnd.jupyter.widget-view+json": {
       "model_id": "854ce199fe034e498e0c90c42e4b6cab",
       "version_major": 2,
       "version_minor": 0
      },
      "text/plain": [
       "COLLECTING RESULTS | :   0%|          | 0/1 [00:00<?, ?it/s]"
      ]
     },
     "metadata": {},
     "output_type": "display_data"
    },
    {
     "name": "stderr",
     "output_type": "stream",
     "text": [
      " 39%|███▉      | 145/368 [05:10<03:21,  1.11it/s]"
     ]
    },
    {
     "data": {
      "application/vnd.jupyter.widget-view+json": {
       "model_id": "aee5f34c1c4340d28ca4527def495b0b",
       "version_major": 2,
       "version_minor": 0
      },
      "text/plain": [
       "QUEUEING TASKS | :   0%|          | 0/1 [00:00<?, ?it/s]"
      ]
     },
     "metadata": {},
     "output_type": "display_data"
    },
    {
     "data": {
      "application/vnd.jupyter.widget-view+json": {
       "model_id": "f54caaeaf25f492785064c026637e5dc",
       "version_major": 2,
       "version_minor": 0
      },
      "text/plain": [
       "PROCESSING TASKS | :   0%|          | 0/1 [00:00<?, ?it/s]"
      ]
     },
     "metadata": {},
     "output_type": "display_data"
    },
    {
     "data": {
      "application/vnd.jupyter.widget-view+json": {
       "model_id": "46b6b4c2d6ce43f5a6ed6a806448fe03",
       "version_major": 2,
       "version_minor": 0
      },
      "text/plain": [
       "COLLECTING RESULTS | :   0%|          | 0/1 [00:00<?, ?it/s]"
      ]
     },
     "metadata": {},
     "output_type": "display_data"
    },
    {
     "name": "stderr",
     "output_type": "stream",
     "text": [
      " 57%|█████▋    | 210/368 [06:30<00:14, 10.87it/s]"
     ]
    },
    {
     "data": {
      "application/vnd.jupyter.widget-view+json": {
       "model_id": "ecfae9f2d02a483cbb4f135533f6c605",
       "version_major": 2,
       "version_minor": 0
      },
      "text/plain": [
       "QUEUEING TASKS | :   0%|          | 0/1 [00:00<?, ?it/s]"
      ]
     },
     "metadata": {},
     "output_type": "display_data"
    },
    {
     "data": {
      "application/vnd.jupyter.widget-view+json": {
       "model_id": "0b9f89678ea6422cbd913415655f9d03",
       "version_major": 2,
       "version_minor": 0
      },
      "text/plain": [
       "PROCESSING TASKS | :   0%|          | 0/1 [00:00<?, ?it/s]"
      ]
     },
     "metadata": {},
     "output_type": "display_data"
    },
    {
     "data": {
      "application/vnd.jupyter.widget-view+json": {
       "model_id": "0bd1d95976144245a0de55dad446ad02",
       "version_major": 2,
       "version_minor": 0
      },
      "text/plain": [
       "COLLECTING RESULTS | :   0%|          | 0/1 [00:00<?, ?it/s]"
      ]
     },
     "metadata": {},
     "output_type": "display_data"
    },
    {
     "data": {
      "application/vnd.jupyter.widget-view+json": {
       "model_id": "b24d7cadfb0c415da20e235ff116d5d5",
       "version_major": 2,
       "version_minor": 0
      },
      "text/plain": [
       "QUEUEING TASKS | :   0%|          | 0/1 [00:00<?, ?it/s]"
      ]
     },
     "metadata": {},
     "output_type": "display_data"
    },
    {
     "data": {
      "application/vnd.jupyter.widget-view+json": {
       "model_id": "1d115a363c0743c59e75eaa82b632e15",
       "version_major": 2,
       "version_minor": 0
      },
      "text/plain": [
       "PROCESSING TASKS | :   0%|          | 0/1 [00:00<?, ?it/s]"
      ]
     },
     "metadata": {},
     "output_type": "display_data"
    },
    {
     "data": {
      "application/vnd.jupyter.widget-view+json": {
       "model_id": "8ec6af9502b246c3b593b34301304d91",
       "version_major": 2,
       "version_minor": 0
      },
      "text/plain": [
       "COLLECTING RESULTS | :   0%|          | 0/1 [00:00<?, ?it/s]"
      ]
     },
     "metadata": {},
     "output_type": "display_data"
    },
    {
     "name": "stderr",
     "output_type": "stream",
     "text": [
      " 67%|██████▋   | 246/368 [08:00<00:32,  3.74it/s]"
     ]
    },
    {
     "data": {
      "application/vnd.jupyter.widget-view+json": {
       "model_id": "78467b6bfeb64da985118bb2c6b70e77",
       "version_major": 2,
       "version_minor": 0
      },
      "text/plain": [
       "QUEUEING TASKS | :   0%|          | 0/1 [00:00<?, ?it/s]"
      ]
     },
     "metadata": {},
     "output_type": "display_data"
    },
    {
     "data": {
      "application/vnd.jupyter.widget-view+json": {
       "model_id": "befe944381754d418320ce539117bb18",
       "version_major": 2,
       "version_minor": 0
      },
      "text/plain": [
       "PROCESSING TASKS | :   0%|          | 0/1 [00:00<?, ?it/s]"
      ]
     },
     "metadata": {},
     "output_type": "display_data"
    },
    {
     "data": {
      "application/vnd.jupyter.widget-view+json": {
       "model_id": "24419bbd2f724312a937617208336593",
       "version_major": 2,
       "version_minor": 0
      },
      "text/plain": [
       "COLLECTING RESULTS | :   0%|          | 0/1 [00:00<?, ?it/s]"
      ]
     },
     "metadata": {},
     "output_type": "display_data"
    },
    {
     "data": {
      "application/vnd.jupyter.widget-view+json": {
       "model_id": "656befd23bf44563b0ed82caa241dda0",
       "version_major": 2,
       "version_minor": 0
      },
      "text/plain": [
       "QUEUEING TASKS | :   0%|          | 0/1 [00:00<?, ?it/s]"
      ]
     },
     "metadata": {},
     "output_type": "display_data"
    },
    {
     "data": {
      "application/vnd.jupyter.widget-view+json": {
       "model_id": "9855fd96de5e47fead3b4920138c414a",
       "version_major": 2,
       "version_minor": 0
      },
      "text/plain": [
       "PROCESSING TASKS | :   0%|          | 0/1 [00:00<?, ?it/s]"
      ]
     },
     "metadata": {},
     "output_type": "display_data"
    },
    {
     "data": {
      "application/vnd.jupyter.widget-view+json": {
       "model_id": "e326cdbc5ec349aca6de71993f15aa30",
       "version_major": 2,
       "version_minor": 0
      },
      "text/plain": [
       "COLLECTING RESULTS | :   0%|          | 0/1 [00:00<?, ?it/s]"
      ]
     },
     "metadata": {},
     "output_type": "display_data"
    },
    {
     "name": "stderr",
     "output_type": "stream",
     "text": [
      " 76%|███████▌  | 280/368 [08:50<00:23,  3.74it/s]"
     ]
    },
    {
     "data": {
      "application/vnd.jupyter.widget-view+json": {
       "model_id": "aafcf6af24224380b4d1aeb3b8da8568",
       "version_major": 2,
       "version_minor": 0
      },
      "text/plain": [
       "QUEUEING TASKS | :   0%|          | 0/1 [00:00<?, ?it/s]"
      ]
     },
     "metadata": {},
     "output_type": "display_data"
    },
    {
     "data": {
      "application/vnd.jupyter.widget-view+json": {
       "model_id": "31beb94a09e24423bdd4ae638a0f4ff9",
       "version_major": 2,
       "version_minor": 0
      },
      "text/plain": [
       "PROCESSING TASKS | :   0%|          | 0/1 [00:00<?, ?it/s]"
      ]
     },
     "metadata": {},
     "output_type": "display_data"
    },
    {
     "data": {
      "application/vnd.jupyter.widget-view+json": {
       "model_id": "c55c0a67ba21449996561363ff7c6077",
       "version_major": 2,
       "version_minor": 0
      },
      "text/plain": [
       "COLLECTING RESULTS | :   0%|          | 0/1 [00:00<?, ?it/s]"
      ]
     },
     "metadata": {},
     "output_type": "display_data"
    },
    {
     "data": {
      "application/vnd.jupyter.widget-view+json": {
       "model_id": "d1260d62102842288ae16971978895ca",
       "version_major": 2,
       "version_minor": 0
      },
      "text/plain": [
       "QUEUEING TASKS | :   0%|          | 0/1 [00:00<?, ?it/s]"
      ]
     },
     "metadata": {},
     "output_type": "display_data"
    },
    {
     "data": {
      "application/vnd.jupyter.widget-view+json": {
       "model_id": "46da1b194a374aa0a4769bc448bac513",
       "version_major": 2,
       "version_minor": 0
      },
      "text/plain": [
       "PROCESSING TASKS | :   0%|          | 0/1 [00:00<?, ?it/s]"
      ]
     },
     "metadata": {},
     "output_type": "display_data"
    },
    {
     "data": {
      "application/vnd.jupyter.widget-view+json": {
       "model_id": "cab00d3f5105445a97b03074bb81e9d7",
       "version_major": 2,
       "version_minor": 0
      },
      "text/plain": [
       "COLLECTING RESULTS | :   0%|          | 0/1 [00:00<?, ?it/s]"
      ]
     },
     "metadata": {},
     "output_type": "display_data"
    },
    {
     "name": "stderr",
     "output_type": "stream",
     "text": [
      " 78%|███████▊  | 286/368 [09:30<03:19,  2.43s/it]"
     ]
    },
    {
     "data": {
      "application/vnd.jupyter.widget-view+json": {
       "model_id": "47537023d8c64410ba70876c388b8254",
       "version_major": 2,
       "version_minor": 0
      },
      "text/plain": [
       "QUEUEING TASKS | :   0%|          | 0/1 [00:00<?, ?it/s]"
      ]
     },
     "metadata": {},
     "output_type": "display_data"
    },
    {
     "data": {
      "application/vnd.jupyter.widget-view+json": {
       "model_id": "7fe1aadf600b4f07a381d43a8f195a35",
       "version_major": 2,
       "version_minor": 0
      },
      "text/plain": [
       "PROCESSING TASKS | :   0%|          | 0/1 [00:00<?, ?it/s]"
      ]
     },
     "metadata": {},
     "output_type": "display_data"
    },
    {
     "data": {
      "application/vnd.jupyter.widget-view+json": {
       "model_id": "3bee286097124cd18df5bb6119479ab8",
       "version_major": 2,
       "version_minor": 0
      },
      "text/plain": [
       "COLLECTING RESULTS | :   0%|          | 0/1 [00:00<?, ?it/s]"
      ]
     },
     "metadata": {},
     "output_type": "display_data"
    },
    {
     "data": {
      "application/vnd.jupyter.widget-view+json": {
       "model_id": "8a6e265b9340430b87c45b2202c6c327",
       "version_major": 2,
       "version_minor": 0
      },
      "text/plain": [
       "QUEUEING TASKS | :   0%|          | 0/1 [00:00<?, ?it/s]"
      ]
     },
     "metadata": {},
     "output_type": "display_data"
    },
    {
     "data": {
      "application/vnd.jupyter.widget-view+json": {
       "model_id": "9f22397280da4cb5a9800cd66cd028b7",
       "version_major": 2,
       "version_minor": 0
      },
      "text/plain": [
       "PROCESSING TASKS | :   0%|          | 0/1 [00:00<?, ?it/s]"
      ]
     },
     "metadata": {},
     "output_type": "display_data"
    },
    {
     "data": {
      "application/vnd.jupyter.widget-view+json": {
       "model_id": "b47d8383c7b0436d8b2d9ff128577ebc",
       "version_major": 2,
       "version_minor": 0
      },
      "text/plain": [
       "COLLECTING RESULTS | :   0%|          | 0/1 [00:00<?, ?it/s]"
      ]
     },
     "metadata": {},
     "output_type": "display_data"
    },
    {
     "name": "stderr",
     "output_type": "stream",
     "text": [
      " 79%|███████▉  | 290/368 [09:57<06:30,  5.00s/it]"
     ]
    },
    {
     "name": "stdout",
     "output_type": "stream",
     "text": [
      "⚠️  Used monthly fallback for 2024-05-01 00:24:00\n",
      "⚠️  Used monthly fallback for 2024-05-01 03:15:00\n",
      "⚠️  Used monthly fallback for 2024-05-01 05:46:00\n",
      "⚠️  Used monthly fallback for 2024-05-01 09:14:00\n"
     ]
    },
    {
     "name": "stderr",
     "output_type": "stream",
     "text": [
      " 81%|████████  | 298/368 [09:58<01:55,  1.64s/it]"
     ]
    },
    {
     "name": "stdout",
     "output_type": "stream",
     "text": [
      "⚠️  Used monthly fallback for 2024-05-02 03:13:00\n",
      "⚠️  Used monthly fallback for 2024-05-02 05:17:00\n",
      "⚠️  Used monthly fallback for 2024-05-02 07:42:00\n"
     ]
    },
    {
     "name": "stderr",
     "output_type": "stream",
     "text": [
      " 82%|████████▏ | 303/368 [09:58<00:53,  1.21it/s]"
     ]
    },
    {
     "name": "stdout",
     "output_type": "stream",
     "text": [
      "⚠️  Used monthly fallback for 2024-05-02 11:13:00\n",
      "⚠️  Used monthly fallback for 2024-05-03 01:10:00\n"
     ]
    },
    {
     "name": "stderr",
     "output_type": "stream",
     "text": [
      " 83%|████████▎ | 307/368 [09:58<00:29,  2.07it/s]"
     ]
    },
    {
     "name": "stdout",
     "output_type": "stream",
     "text": [
      "⚠️  Used monthly fallback for 2024-05-03 04:01:00\n",
      "⚠️  Used monthly fallback for 2024-05-03 07:47:00\n",
      "⚠️  Used monthly fallback for 2024-05-03 10:35:00\n",
      "⚠️  Used monthly fallback for 2024-05-03 13:53:00\n"
     ]
    },
    {
     "name": "stderr",
     "output_type": "stream",
     "text": [
      " 85%|████████▌ | 313/368 [10:00<00:19,  2.86it/s]"
     ]
    },
    {
     "name": "stdout",
     "output_type": "stream",
     "text": [
      "⚠️  Used monthly fallback for 2024-05-03 17:03:00\n"
     ]
    },
    {
     "name": "stderr",
     "output_type": "stream",
     "text": [
      " 92%|█████████▏| 337/368 [10:20<00:02, 10.61it/s]"
     ]
    },
    {
     "data": {
      "application/vnd.jupyter.widget-view+json": {
       "model_id": "b3dc50c7fa0a4b2483c34fcda805c9d7",
       "version_major": 2,
       "version_minor": 0
      },
      "text/plain": [
       "QUEUEING TASKS | :   0%|          | 0/1 [00:00<?, ?it/s]"
      ]
     },
     "metadata": {},
     "output_type": "display_data"
    },
    {
     "data": {
      "application/vnd.jupyter.widget-view+json": {
       "model_id": "e167c1ea46ad42ae9f29736fdef32887",
       "version_major": 2,
       "version_minor": 0
      },
      "text/plain": [
       "PROCESSING TASKS | :   0%|          | 0/1 [00:00<?, ?it/s]"
      ]
     },
     "metadata": {},
     "output_type": "display_data"
    },
    {
     "data": {
      "application/vnd.jupyter.widget-view+json": {
       "model_id": "8da3888062064f539ed3ce811893d42d",
       "version_major": 2,
       "version_minor": 0
      },
      "text/plain": [
       "COLLECTING RESULTS | :   0%|          | 0/1 [00:00<?, ?it/s]"
      ]
     },
     "metadata": {},
     "output_type": "display_data"
    },
    {
     "data": {
      "application/vnd.jupyter.widget-view+json": {
       "model_id": "bcfd134bdd42424890b85da4f38cea04",
       "version_major": 2,
       "version_minor": 0
      },
      "text/plain": [
       "QUEUEING TASKS | :   0%|          | 0/1 [00:00<?, ?it/s]"
      ]
     },
     "metadata": {},
     "output_type": "display_data"
    },
    {
     "data": {
      "application/vnd.jupyter.widget-view+json": {
       "model_id": "46a8c453f11b459ebaba2031006bd497",
       "version_major": 2,
       "version_minor": 0
      },
      "text/plain": [
       "PROCESSING TASKS | :   0%|          | 0/1 [00:00<?, ?it/s]"
      ]
     },
     "metadata": {},
     "output_type": "display_data"
    },
    {
     "data": {
      "application/vnd.jupyter.widget-view+json": {
       "model_id": "3212b82d279747ee9c7a8c1564ea7898",
       "version_major": 2,
       "version_minor": 0
      },
      "text/plain": [
       "COLLECTING RESULTS | :   0%|          | 0/1 [00:00<?, ?it/s]"
      ]
     },
     "metadata": {},
     "output_type": "display_data"
    },
    {
     "name": "stderr",
     "output_type": "stream",
     "text": [
      "100%|██████████| 368/368 [10:58<00:00,  1.79s/it]\n",
      "/tmp/ipykernel_223/111140204.py:125: DeprecationWarning: `trapz` is deprecated. Use `trapezoid` instead, or one of the numerical integration functions in `scipy.integrate`.\n",
      "  rrs_brightness = np.trapz(rrs_values, x=wavelengths, axis=1)\n"
     ]
    },
    {
     "name": "stdout",
     "output_type": "stream",
     "text": [
      "✅ Saved merged file: fisheries_with_pace_rrs_avw2.csv\n",
      "✅ Added Rrs_brightness and saved updated CSV.\n"
     ]
    }
   ],
   "source": [
    "import pandas as pd\n",
    "import numpy as np\n",
    "import xarray as xr\n",
    "from datetime import datetime\n",
    "import earthaccess\n",
    "from tqdm import tqdm\n",
    "\n",
    "# === Authenticate ===\n",
    "auth = earthaccess.login()\n",
    "assert auth.authenticated, \"Earthaccess login failed.\"\n",
    "\n",
    "# === Load simplified catch data ===\n",
    "df = pd.read_csv(\"simplified_catch_summary.csv\")\n",
    "\n",
    "# === Helper: convert date to 8-day PACE period ===\n",
    "def get_8day_range(date_str):\n",
    "    dt = pd.to_datetime(date_str)\n",
    "    doy = (dt - pd.Timestamp(\"2024-01-01\")).days\n",
    "    start_day = 8 * (doy // 8)\n",
    "    start_date = pd.Timestamp(\"2024-01-01\") + pd.Timedelta(days=start_day)\n",
    "    end_date = start_date + pd.Timedelta(days=7)\n",
    "    return start_date.strftime(\"%Y-%m-%d\"), end_date.strftime(\"%Y-%m-%d\")\n",
    "\n",
    "# === Caching logic ===\n",
    "rrs_cache = {}\n",
    "avw_cache = {}\n",
    "\n",
    "def load_cached_dataset(short_name, start_date, end_date, cache, product_type=\"8D\"):\n",
    "    key = (short_name, start_date, product_type)\n",
    "    if key in cache:\n",
    "        return cache[key]\n",
    "\n",
    "    granule_pattern = f\"*.{product_type}.*.4km.*\"\n",
    "\n",
    "    results = earthaccess.search_data(\n",
    "        short_name=short_name,\n",
    "        temporal=(start_date, end_date),\n",
    "        granule_name=granule_pattern\n",
    "    )\n",
    "    if not results:\n",
    "        return None\n",
    "\n",
    "    try:\n",
    "        ds = xr.open_dataset(earthaccess.open(results)[0])\n",
    "        cache[key] = ds\n",
    "        return ds\n",
    "    except Exception as e:\n",
    "        print(f\"Failed to open dataset for {short_name} on {start_date} ({product_type}): {e}\")\n",
    "        return None\n",
    "\n",
    "def try_extract(ds_rrs, ds_avw, lat, lon):\n",
    "    if ds_rrs is None or ds_avw is None:\n",
    "        return None, None, None\n",
    "\n",
    "    try:\n",
    "        lat_idx = np.abs(ds_rrs[\"lat\"].values - lat).argmin()\n",
    "        lon_idx = np.abs(ds_rrs[\"lon\"].values - lon).argmin()\n",
    "\n",
    "        lat_slice = slice(max(lat_idx - 2, 0), min(lat_idx + 3, ds_rrs.sizes[\"lat\"]))\n",
    "        lon_slice = slice(max(lon_idx - 2, 0), min(lon_idx + 3, ds_rrs.sizes[\"lon\"]))\n",
    "\n",
    "        rrs_vals = ds_rrs[\"Rrs\"][lat_slice, lon_slice, :].mean(dim=(\"lat\", \"lon\")).values\n",
    "        avw_val = ds_avw[\"avw\"][lat_slice, lon_slice].mean().item()\n",
    "        wavelengths = ds_rrs[\"wavelength\"].values\n",
    "\n",
    "        return rrs_vals, avw_val, wavelengths\n",
    "\n",
    "    except Exception as e:\n",
    "        print(f\"Error extracting Rrs/AVW: {e}\")\n",
    "        return None, None, None\n",
    "\n",
    "# === Main loop ===\n",
    "rrs_data = []\n",
    "\n",
    "for _, row in tqdm(df.iterrows(), total=len(df)):\n",
    "    tow_date = row[\"TOWDATETIME_EST\"]\n",
    "    lat, lon = row[\"LAT\"], row[\"LON\"]\n",
    "    start_date, end_date = get_8day_range(tow_date)\n",
    "\n",
    "    # === Try 8-day first ===\n",
    "    ds_rrs = load_cached_dataset(\"PACE_OCI_L3M_RRS\", start_date, end_date, rrs_cache, product_type=\"8D\")\n",
    "    ds_avw = load_cached_dataset(\"PACE_OCI_L3M_AVW\", start_date, end_date, avw_cache, product_type=\"8D\")\n",
    "    rrs_vals, avw_val, wavelengths = try_extract(ds_rrs, ds_avw, lat, lon)\n",
    "\n",
    "    # === Fallback to monthly if 8-day fails or is all NaNs ===\n",
    "    if rrs_vals is None or np.all(np.isnan(rrs_vals)):\n",
    "        monthly_start = pd.to_datetime(tow_date).replace(day=1)\n",
    "        monthly_end = (monthly_start + pd.offsets.MonthEnd(0)).strftime(\"%Y-%m-%d\")\n",
    "        monthly_start = monthly_start.strftime(\"%Y-%m-%d\")\n",
    "\n",
    "        ds_rrs = load_cached_dataset(\"PACE_OCI_L3M_RRS\", monthly_start, monthly_end, rrs_cache, product_type=\"MO\")\n",
    "        ds_avw = load_cached_dataset(\"PACE_OCI_L3M_AVW\", monthly_start, monthly_end, avw_cache, product_type=\"MO\")\n",
    "        rrs_vals, avw_val, wavelengths = try_extract(ds_rrs, ds_avw, lat, lon)\n",
    "\n",
    "        if rrs_vals is not None and not np.all(np.isnan(rrs_vals)):\n",
    "            print(f\"⚠️  Used monthly fallback for {tow_date}\")\n",
    "        else:\n",
    "            print(f\"❌ No valid Rrs data even in monthly fallback for {tow_date}\")\n",
    "            continue\n",
    "\n",
    "    # === Store result ===\n",
    "    result = {\n",
    "        \"TOWDATETIME_EST\": tow_date,\n",
    "        \"AVW\": avw_val\n",
    "    }\n",
    "    for wl, val in zip(wavelengths, rrs_vals):\n",
    "        result[f\"Rrs_{int(wl)}\"] = val\n",
    "\n",
    "    rrs_data.append(result)\n",
    "\n",
    "# === Merge with fisheries data and save ===\n",
    "rrs_df = pd.DataFrame(rrs_data)\n",
    "merged = pd.merge(df, rrs_df, on=\"TOWDATETIME_EST\", how=\"left\")\n",
    "merged.to_csv(\"fisheries_with_pace_rrs_avw2.csv\", index=False)\n",
    "print(\"✅ Saved merged file: fisheries_with_pace_rrs_avw2.csv\")\n",
    "\n",
    "# === Compute brightness from Rrs ===\n",
    "rrs_cols = [col for col in merged.columns if col.startswith(\"Rrs_\")]\n",
    "rrs_wavelengths = [int(col.split(\"_\")[1]) for col in rrs_cols]\n",
    "rrs_filtered = [(wl, col) for wl, col in zip(rrs_wavelengths, rrs_cols) if 400 <= wl <= 700]\n",
    "rrs_filtered.sort()\n",
    "wavelengths, rrs_ordered_cols = zip(*rrs_filtered)\n",
    "\n",
    "rrs_values = merged[list(rrs_ordered_cols)].values\n",
    "rrs_brightness = np.trapz(rrs_values, x=wavelengths, axis=1)\n",
    "merged[\"Rrs_brightness\"] = rrs_brightness\n",
    "\n",
    "merged.to_csv(\"fisheries_with_pace_rrs_avw2.csv\", index=False)\n",
    "print(\"✅ Added Rrs_brightness and saved updated CSV.\")\n",
    "\n",
    "\n"
   ]
  },
  {
   "cell_type": "code",
   "execution_count": null,
   "id": "51a933d3-770b-43e8-8a87-9bf5923aca20",
   "metadata": {},
   "outputs": [],
   "source": [
    "import pandas as pd\n",
    "import numpy as np\n",
    "import xarray as xr\n",
    "from datetime import datetime\n",
    "import earthaccess\n",
    "from tqdm import tqdm\n",
    "\n",
    "# === Authenticate ===\n",
    "auth = earthaccess.login()\n",
    "assert auth.authenticated, \"Earthaccess login failed.\"\n",
    "\n",
    "# === Load simplified catch data ===\n",
    "df = pd.read_csv(\"simplified_catch_summary.csv\")\n",
    "\n",
    "# === Helper: convert date to 8-day PACE period ===\n",
    "def get_8day_range(date_str):\n",
    "    dt = pd.to_datetime(date_str)\n",
    "    doy = (dt - pd.Timestamp(\"2024-01-01\")).days\n",
    "    start_day = 8 * (doy // 8)\n",
    "    start_date = pd.Timestamp(\"2024-01-01\") + pd.Timedelta(days=start_day)\n",
    "    end_date = start_date + pd.Timedelta(days=7)\n",
    "    return start_date.strftime(\"%Y-%m-%d\"), end_date.strftime(\"%Y-%m-%d\")\n",
    "\n",
    "# === Caching logic ===\n",
    "kd_cache = {}\n",
    "\n",
    "def load_cached_dataset(short_name, start_date, end_date, cache):\n",
    "    key = (short_name, start_date)\n",
    "    if key in cache:\n",
    "        return cache[key]\n",
    "    \n",
    "    results = earthaccess.search_data(\n",
    "        short_name=short_name,\n",
    "        temporal=(start_date, end_date),\n",
    "        granule_name=\"*.8D.*.4km.*\"\n",
    "    )\n",
    "    if not results:\n",
    "        return None\n",
    "\n",
    "    try:\n",
    "        ds = xr.open_dataset(earthaccess.open(results)[0])\n",
    "        cache[key] = ds\n",
    "        return ds\n",
    "    except Exception as e:\n",
    "        print(f\"Failed to open dataset for {short_name} on {start_date}: {e}\")\n",
    "        return None\n",
    "\n",
    "# === Main loop ===\n",
    "kd_data = []\n",
    "\n",
    "for _, row in tqdm(df.iterrows(), total=len(df)):\n",
    "    tow_date = row[\"TOWDATETIME_EST\"]\n",
    "    lat, lon = row[\"LAT\"], row[\"LON\"]\n",
    "    start_date, end_date = get_8day_range(tow_date)\n",
    "\n",
    "    # === Load Kd dataset with caching ===\n",
    "    ds_kd = load_cached_dataset(\"PACE_OCI_L3M_KD\", start_date, end_date, kd_cache)\n",
    "\n",
    "    if ds_kd is None:\n",
    "        print(f\"Skipping {tow_date} due to missing Kd data.\")\n",
    "        continue\n",
    "\n",
    "    try:\n",
    "        # === Find nearest grid point ===\n",
    "        lat_idx = np.abs(ds_kd[\"lat\"].values - lat).argmin()\n",
    "        lon_idx = np.abs(ds_kd[\"lon\"].values - lon).argmin()\n",
    "\n",
    "        lat_slice = slice(max(lat_idx - 2, 0), min(lat_idx + 3, ds_kd.sizes[\"lat\"]))\n",
    "        lon_slice = slice(max(lon_idx - 2, 0), min(lon_idx + 3, ds_kd.sizes[\"lon\"]))\n",
    "\n",
    "        # === Kd: mean over 5x5 box ===\n",
    "        kd_vals = ds_kd[\"Kd\"][lat_slice, lon_slice, :].mean(dim=(\"lat\", \"lon\")).values\n",
    "        wavelengths = ds_kd[\"wavelength\"].values\n",
    "\n",
    "        if np.all(np.isnan(kd_vals)):\n",
    "            print(f\"All Kd NaN for {tow_date}\")\n",
    "            continue\n",
    "\n",
    "        # === Store result ===\n",
    "        result = {\n",
    "            \"TOWDATETIME_EST\": tow_date\n",
    "        }\n",
    "\n",
    "        for wl, val in zip(wavelengths, kd_vals):\n",
    "            result[f\"Kd_{int(wl)}\"] = val\n",
    "\n",
    "        kd_data.append(result)\n",
    "\n",
    "    except Exception as e:\n",
    "        print(f\"Skipping {tow_date} at {lat:.2f}, {lon:.2f} due to error: {e}\")\n",
    "        continue\n",
    "\n",
    "# === Merge with fisheries data and save ===\n",
    "kd_df = pd.DataFrame(kd_data)\n",
    "merged = pd.merge(df, kd_df, on=\"TOWDATETIME_EST\", how=\"left\")\n",
    "merged.to_csv(\"fisheries_with_pace_kd.csv\", index=False)\n",
    "\n",
    "print(\"✅ Done! Output saved to: fisheries_with_pace_kd.csv\")"
   ]
  }
 ],
 "metadata": {
  "kernelspec": {
   "display_name": "Python 3 (ipykernel)",
   "language": "python",
   "name": "python3"
  },
  "language_info": {
   "codemirror_mode": {
    "name": "ipython",
    "version": 3
   },
   "file_extension": ".py",
   "mimetype": "text/x-python",
   "name": "python",
   "nbconvert_exporter": "python",
   "pygments_lexer": "ipython3",
   "version": "3.12.10"
  }
 },
 "nbformat": 4,
 "nbformat_minor": 5
}
