{
 "cells": [
  {
   "cell_type": "code",
   "execution_count": 2,
   "id": "3f0e7054-b9c2-4b3e-a62b-b4dfd02067eb",
   "metadata": {},
   "outputs": [
    {
     "name": "stdout",
     "output_type": "stream",
     "text": [
      "Index(['TOWDATETIME_EST', 'LAT', 'LON', 'MEAN_DEPTH', 'SWEPT_AREA_km',\n",
      "       'acadian redfish', 'alewife', 'alligatorfish', 'american lobster',\n",
      "       'american plaice',\n",
      "       ...\n",
      "       'Kd_510', 'Kd_532', 'Kd_555', 'Kd_583', 'Kd_618', 'Kd_640', 'Kd_655',\n",
      "       'Kd_665', 'Kd_678', 'Kd_711'],\n",
      "      dtype='object', length=217)\n"
     ]
    }
   ],
   "source": [
    "import pandas as pd\n",
    "\n",
    "df = pd.read_csv(\"fisheries_with_pace_kd.csv\")\n",
    "print(df.columns)"
   ]
  },
  {
   "cell_type": "code",
   "execution_count": 3,
   "id": "a5f8b3dd-1b3c-4762-8f78-47c0759be1d0",
   "metadata": {},
   "outputs": [],
   "source": [
    "import pandas as pd\n",
    "import numpy as np\n",
    "\n",
    "\n",
    "# Step 1: Define metadata and Rrs columns\n",
    "metadata_cols = ['TOWDATETIME_EST', 'LAT', 'LON', 'MEAN_DEPTH', 'SWEPT_AREA_KM']\n",
    "\n",
    "# Step 2: Define spectral Kd columns\n",
    "kd_cols = [col for col in df.columns if col.startswith(\"Kd_\")]\n",
    "\n",
    "# Step 3: Define species columns (everything else)\n",
    "species_cols = [col for col in df.columns if col not in metadata_cols + kd_cols]\n",
    "\n",
    "# Step 4: Convert to numeric\n",
    "df[species_cols + kd_cols] = df[species_cols + kd_cols].apply(pd.to_numeric, errors='coerce')\n",
    "\n",
    "# === Load surface Es spectrum ===\n",
    "df_es = pd.read_csv('Es_spectrum.csv')  # should have 'wave' and 'Es' columns\n",
    "wave_Es = df_es['wave'].values  # e.g., [412, 443, ...]\n",
    "Es = df_es['Es'].values         # same length as kd_cols\n"
   ]
  },
  {
   "cell_type": "code",
   "execution_count": 4,
   "id": "231212e3-d6d4-4954-b20c-b0c44029370e",
   "metadata": {},
   "outputs": [],
   "source": [
    "# Prepare output\n",
    "attenuated_Es_list = []\n",
    "\n",
    "for i, row in df.iterrows():\n",
    "    z = row[\"MEAN_DEPTH\"]\n",
    "    Kd = row[kd_cols].values.astype(float)  # shape = [n_wavelengths]\n",
    "    \n",
    "    # Skip if any Kd is missing\n",
    "    if np.isnan(Kd).any() or pd.isna(z):\n",
    "        attenuated_Es_list.append([np.nan] * len(Kd))  # keep row structure\n",
    "        continue\n",
    "\n",
    "    # Element-wise attenuation: Es * exp(-Kd * z)\n",
    "    Edz = Es * np.exp(-Kd * z)\n",
    "    attenuated_Es_list.append(Edz)\n",
    "\n",
    "# Label columns: match Es wavelengths\n",
    "edz_cols = [f\"Edz_{int(w)}\" for w in wave_Es]\n",
    "\n",
    "# Create new DataFrame\n",
    "df_Edz = pd.DataFrame(attenuated_Es_list, columns=edz_cols)\n",
    "\n",
    "# Join to main DataFrame\n",
    "df = pd.concat([df, df_Edz], axis=1)\n",
    "\n",
    "df.to_csv(\"fisheries_with_pace_kd_Edz.csv\", index=False)"
   ]
  },
  {
   "cell_type": "code",
   "execution_count": 16,
   "id": "42a30103-73ee-49c0-a728-3c35061b054b",
   "metadata": {},
   "outputs": [
    {
     "name": "stderr",
     "output_type": "stream",
     "text": [
      "/tmp/ipykernel_3884/900112321.py:13: DeprecationWarning: `trapz` is deprecated. Use `trapezoid` instead, or one of the numerical integration functions in `scipy.integrate`.\n",
      "  df_with_Edz[\"Edz_trapz\"] = (np.trapz(edz_array, wave_Es, axis=1))/3.610104\n",
      "/tmp/ipykernel_3884/900112321.py:14: DeprecationWarning: `trapz` is deprecated. Use `trapezoid` instead, or one of the numerical integration functions in `scipy.integrate`.\n",
      "  df_with_Edz[\"Edz_trapz_log\"] = np.log10(np.trapz(edz_array, wave_Es, axis=1))\n"
     ]
    }
   ],
   "source": [
    "df_with_Edz = pd.read_csv(\"fisheries_with_pace_kd_Edz.csv\")\n",
    "\n",
    "# Extract only the Edz columns (assuming they have the form 'Edz_XXX')\n",
    "edz_cols = [col for col in df_with_Edz.columns if col.startswith(\"Edz_\")]\n",
    "\n",
    "# Extract the Edz array\n",
    "edz_array = df_with_Edz[edz_cols].values\n",
    "\n",
    "# Wavelengths from your Es spectrum (adjust if necessary)\n",
    "wave_Es = df_es['wave'].values\n",
    "\n",
    "# Trapezoidal integration\n",
    "df_with_Edz[\"Edz_trapz\"] = (np.trapz(edz_array, wave_Es, axis=1))/3.610104\n",
    "df_with_Edz[\"Edz_trapz_log\"] = np.log10(np.trapz(edz_array, wave_Es, axis=1))\n",
    "\n",
    "# Apparent Visible Wavelength (AVW)\n",
    "with np.errstate(divide='ignore', invalid='ignore'):\n",
    "    numerator = np.sum(edz_array, axis=1)\n",
    "    denominator = np.sum(edz_array / wave_Es, axis=1)\n",
    "    df_with_Edz[\"AVW_Edz\"] = numerator / denominator\n",
    "\n",
    "df_with_Edz.to_csv(\"fisheries_with_pace_kd_Edz_AVW_PAR.csv\", index=False)"
   ]
  },
  {
   "cell_type": "code",
   "execution_count": null,
   "id": "8fd450b3-6ec4-44ee-a534-9b20bd8dff88",
   "metadata": {},
   "outputs": [],
   "source": []
  }
 ],
 "metadata": {
  "kernelspec": {
   "display_name": "Python 3 (ipykernel)",
   "language": "python",
   "name": "python3"
  },
  "language_info": {
   "codemirror_mode": {
    "name": "ipython",
    "version": 3
   },
   "file_extension": ".py",
   "mimetype": "text/x-python",
   "name": "python",
   "nbconvert_exporter": "python",
   "pygments_lexer": "ipython3",
   "version": "3.12.10"
  }
 },
 "nbformat": 4,
 "nbformat_minor": 5
}
