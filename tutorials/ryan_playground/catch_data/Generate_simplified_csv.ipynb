{
 "cells": [
  {
   "cell_type": "code",
   "execution_count": null,
   "id": "ba281ff5-7e8e-4323-8fd9-f96b9a2faf61",
   "metadata": {},
   "outputs": [],
   "source": [
    "import pandas as pd\n",
    "\n",
    "# Load the CSV file\n",
    "df = pd.read_csv(\"NMFS_Bigelow_Spring_2024_for_RVM.csv\")\n",
    "\n",
    "# === STEP 1: Average lat/lon across start and end ===\n",
    "df[\"LAT\"] = df[[\"START_LAT\", \"END_LAT\"]].mean(axis=1)\n",
    "df[\"LON\"] = df[[\"START_LON\", \"END_LON\"]].mean(axis=1)\n",
    "\n",
    "# === STEP 2: Keep only the relevant columns ===\n",
    "df_subset = df[[\n",
    "    \"TOWDATETIME_EST\", \"LAT\", \"LON\", \"MEAN_DEPTH\", \"SWEPT_AREA_km\", \n",
    "    \"COMNAME\", \"FULLCOUNT\"\n",
    "]]\n",
    "\n",
    "# === STEP 3: Drop duplicate species within each TOW ===\n",
    "# Since FULLCOUNT is repeated per species-length combo, drop duplicates\n",
    "df_unique = df_subset.drop_duplicates(subset=[\"TOWDATETIME_EST\", \"COMNAME\"])\n",
    "\n",
    "# === STEP 4: Pivot to wide format ===\n",
    "df_wide = df_unique.pivot_table(\n",
    "    index=[\"TOWDATETIME_EST\", \"LAT\", \"LON\", \"MEAN_DEPTH\", \"SWEPT_AREA_km\"],\n",
    "    columns=\"COMNAME\",\n",
    "    values=\"FULLCOUNT\",\n",
    "    fill_value=0\n",
    ").reset_index()\n",
    "\n",
    "# === STEP 5: Optional — sort species columns alphabetically ===\n",
    "non_species_cols = [\"TOWDATETIME_EST\", \"LAT\", \"LON\", \"MEAN_DEPTH\", \"SWEPT_AREA_km\"]\n",
    "species_cols = sorted([col for col in df_wide.columns if col not in non_species_cols])\n",
    "df_wide = df_wide[non_species_cols + species_cols]\n",
    "\n",
    "# === STEP 6: Save to CSV (optional) ===\n",
    "df_wide.to_csv(\"simplified_catch_summary.csv\", index=False)\n",
    "\n",
    "print(\"Summary DataFrame shape:\", df_wide.shape)\n",
    "print(\"Preview:\\n\", df_wide.head())"
   ]
  }
 ],
 "metadata": {
  "kernelspec": {
   "display_name": "Python 3 (ipykernel)",
   "language": "python",
   "name": "python3"
  },
  "language_info": {
   "codemirror_mode": {
    "name": "ipython",
    "version": 3
   },
   "file_extension": ".py",
   "mimetype": "text/x-python",
   "name": "python",
   "nbconvert_exporter": "python",
   "pygments_lexer": "ipython3",
   "version": "3.12.10"
  }
 },
 "nbformat": 4,
 "nbformat_minor": 5
}
